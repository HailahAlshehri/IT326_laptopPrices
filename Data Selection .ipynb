{
 "cells": [
  {
   "cell_type": "markdown",
   "id": "3a936086",
   "metadata": {},
   "source": [
    "# Phase 1 - Laptop Prices Dataset"
   ]
  },
  {
   "cell_type": "markdown",
   "id": "73eeef29",
   "metadata": {},
   "source": [
    "##### Goal: \n",
    "<p>This dataset aims to predict prices of laptops based on their characteristics. </p>\n",
    "\n",
    "##### Source:\n",
    "<a> https://www.kaggle.com/datasets/muhammetvarl/laptop-price </a>\n",
    "\n",
    "##### Number of objects: \n",
    "<p> 1303 </p>\n",
    "\n",
    "##### Number of attributes: \n",
    "<p> 13 </p>\n",
    "\n",
    "##### Class name:\n",
    "<p> Price_euros </p>\n"
   ]
  },
  {
   "cell_type": "markdown",
   "id": "36b50d4b",
   "metadata": {},
   "source": [
    "<table>\n",
    "    <legend> Dataset Attributes </legend>\n",
    "  <tr>\n",
    "    <th>Name of attributes </th>\n",
    "    <th>laptop_ID </th> \n",
    "    <th>Company</th>\n",
    "    <th>Product</th>\n",
    "    <th>TypeName</th>\n",
    "    <th>Inches</th>\n",
    "    <th>ScreenResolution</th>\n",
    "    <th>Cpu</th>\n",
    "    <th>Ram</th>\n",
    "    <th>Memory</th>\n",
    "    <th>Gpu</th>\n",
    "    <th>OpSys</th>\n",
    "    <th>Weight</th>\n",
    "    <th>Price_euros</th> \n",
    "  </tr>\n",
    "     <tr>\n",
    "     <th>Type </th>\n",
    "    <td>Numeric </td> \n",
    "    <td>String</td>\n",
    "    <td>String</td>\n",
    "    <td>String</td>\n",
    "    <td>Numeric</td>\n",
    "    <td>String</td>\n",
    "    <td>String</td>\n",
    "    <td>String</td>\n",
    "    <td>String</td>\n",
    "    <td>String</td>\n",
    "    <td>String</td>\n",
    "    <td>String</td>\n",
    "    <td>Numeric</td> \n",
    "      \n",
    "  </tr>\n",
    "    \n",
    "  <tr>\t\t\t\t\t\t\t\t\t\t\t \n",
    "    <th>Description </th>\n",
    "    <td>Unique ID for each laptop </td> \n",
    "    <td>Laptop Manufacturer</td>\n",
    "    <td>Brand and Model</td>\n",
    "    <td>Type Notebook Ultrabook Gaming etc.</td>\n",
    "    <td>Screen Size</td>\n",
    "    <td>Screen Resolution</td>\n",
    "    <td>Central Processing Unit</td>\n",
    "    <td>Laptop RAM</td>\n",
    "    <td>Hard Disk  SSD Memory</td>\n",
    "    <td>Graphics Processing Units GPU</td>\n",
    "    <td>Operating System</td>\n",
    "    <td>Laptop Weight</td>\n",
    "    <td>Price Euro</td>   \n",
    "  </tr>\n",
    " \n",
    "    \n",
    " \n",
    "</table>\n",
    "\n",
    "\n",
    "\n",
    "\n",
    "\n",
    " "
   ]
  },
  {
   "cell_type": "markdown",
   "id": "eb93b2e1",
   "metadata": {},
   "source": [
    "# Phase 2 - Data Summarization and Preprocessing"
   ]
  }
 ],
 "metadata": {
  "kernelspec": {
   "display_name": "R",
   "language": "R",
   "name": "ir"
  },
  "language_info": {
   "codemirror_mode": "r",
   "file_extension": ".r",
   "mimetype": "text/x-r-source",
   "name": "R",
   "pygments_lexer": "r",
   "version": "3.6.1"
  }
 },
 "nbformat": 4,
 "nbformat_minor": 5
}
