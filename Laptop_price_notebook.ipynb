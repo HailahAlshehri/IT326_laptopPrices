---
title: "R Notebook"
output: html_notebook
editor_options: 
  chunk_output_type: inline
---

This is an [R Markdown](http://rmarkdown.rstudio.com) Notebook. When you execute code within the notebook, the results appear beneath the code. 

Try executing this chunk by clicking the *Run* button within the chunk or by placing your cursor inside it and pressing *Ctrl+Shift+Enter*. 

```{r}
library(stringr)
library(tidyr)
library(data.table)

library(dplyr)

install.packages("outliers")
library(outliers)

install.packages("ggplot2")
library(ggplot2)

library(tidyverse)
library(plotly)
```


```{r}
library(readxl)
dataset <- read_excel("C:/Users/Royna/Desktop/laptop_price.xlsx")
View(dataset)
```

```{r}
#check for missing values
is.na(dataset)
sum(is.na(dataset))
```


```{r}
#delete laptop_ID attribute
dataset <- dataset[, -which(names(dataset) == "laptop_ID")]

# making ID coloum
row_numbers <- data.frame(ID = 1:nrow(dataset))
row_numbers$ID <- as.character(row_numbers$ID)
dataset$ID <- row_numbers$ID
dataset <- dataset[, c("ID", names(dataset)[-ncol(dataset)])]
```



```{r}
#sub the kg from Weight attribute
dataset$Weight <- gsub("kg", "", dataset$Weight)
#convert Weight to numeric
dataset$Weight<- as.numeric(as.character(dataset$Weight))

```



```{r}
#-------boxplot --------

bp <- boxplot(dataset$Price_euros)
mean_price <- mean(dataset$Price_euros)
median_values <- bp$stats[3]
lower_quartile <- bp$stats[2]
upper_quartile <- bp$stats[4]
outliers <- bp$out
outliers <- outliers[order(outliers)]


cat("Median:", median_values, "\n")
cat("Lower Quartile (Q1):", lower_quartile, "\n")
cat("Mean Price (euros):", mean_price, "\n")
cat("Upper Quartile (Q3):", upper_quartile, "\n")
```

```{r}
#----- outliers--------


# rows with outliers
outlier_indices <- dataset$Price_euros %in% outliers
# only rows with outliers
outliers_data <- dataset[outlier_indices, c("ID", "Price_euros")]

# analyze price outliers
outliers_data$differenceFromMAx <- outliers_data$Price_euros - 2821

# Calculate standard deviation
sd_price <- sd(dataset$Price_euros)

# z score for outliers
z_scores <- (dataset$Price_euros - mean_price) / sd_price
threshold <- 3

# Create a new dataset containing outliers
deleted_Outliers <- dataset[abs(z_scores) > threshold, ]

#deleting outliers
dataset <- anti_join(dataset, deleted_Outliers, by = "ID")
row_numbers <- data.frame(ID = 1:nrow(dataset))
row_numbers$ID <- as.character(row_numbers$ID)
dataset$ID <- row_numbers$ID

#boxplot after removing outliers
bp <- boxplot(dataset$Price_euros)
# +++++median now is in the middle+++++
mean_price <- mean(dataset$Price_euros)
median_values <- bp$stats[3]
lower_quartile <- bp$stats[2]
upper_quartile <- bp$stats[4]


```



```{r}
#---Find the number of attributes, Observation, strucutre, statistical measures, etc..----

nrow(dataset)
ncol(dataset)
dim(dataset)
names(dataset)
str(dataset)
summary(dataset)
is.null(dataset)

```
```{r}
#detecting outliers
outliersInches <- boxplot.stats(dataset$Inches)$out
boxplot(dataset$Inches,
        ylab = "Inches",
        main = "Inches" )


outliersPrice_euros <- boxplot.stats(dataset$Price_euros)$out
boxplot(dataset$Price_euros,
        ylab = "Price_euros",
        main = "Price_euros" )
graphics.off()
x<- dataset
x<- x[-which(dataset$Inches%in% outliersInches),]
x<- x[-which(dataset$Price_euros%in% outliersPrice_euros),]

remove_outliers <- function(x, na.rm = TRUE, ...){
  qnt <- quantile(x, probs = c(.25, .75), na.rm=na.rm,...)
  H<- 1.5 *IQR(x, na.rm =na.rm)
  y<-x
  y[x< (qnt[1] -H)]<-NA
  y[x>qnt[2] +H]<- NA
  y
}
```


```{r}
#Data pre proccesing
#sum of missing value
sum(is.na(dataset))
```

```{r}
#remove the outliers
remove_outliers <- function(x, na.rm=TRUE, ...){
  qnt<- quantile (x, probs=c(.25, .75), na.rm = na.rm, ...)
  H<- 1.5* IQR(x,na.rm = na.rm)
  y<- x
  y[x < (qnt[1] - H)] <- NA
  y[x > (qnt[2] + H)] <- NA
  }
```


```{r}
#Find unique values in Ram
unique(dataset$Ram)
```

```{r}
#Encode the Ram attribute
dataset$Ram=factor(dataset$Ram,levels=c("8GB","16GB","4GB","2GB","12GB","6GB","32GB","24GB","64GB"),
labels=c(8,16,4,2,12,6,32,24,64))
dataset$Ram<- as.numeric(as.character(dataset$Ram))
```

```{r}
#Find unique values in Weight
unique(dataset$Weight)
#sub the kg from Weight attribute
dataset$Weight <- gsub("kg", "", dataset$Weight)
#convert Weight to numeric
dataset$Weight<- as.numeric(as.character(dataset$Weight))
dataset

```
```{r}
#unique opsy
unique(dataset$OpSys)
dataset$OpSys=factor(dataset$OpSys,levels=c("macOS","No OS","Windows 10","Mac OS X","Linux","Android","Windows 10 S","Chrome OS","Windows 7"),
                     labels=c(1,2,3,4,5,6,7,8,9))
```
```{r}
#Find unique values in CPU
unique(dataset$Cpu)
```

```{r}
#Encode the Memory attribute
# separate(dataset, Memory, into = c("memory-size", "memory-type"), sep = " (?=[^ ]+$)")
# dataset$Ram=factor(dataset$Ram,levels=c("8GB","16GB","4GB","2GB","12GB","6GB","32GB","24GB","64GB"),
                   # labels=c(8,16,4,2,12,6,32,24,64))
```

```{r}
#Normalization 
normalize = function(x) {return ((x-min(x)) / (max(x)))} 
dataset$Price_euros = normalize(dataset$Price_euros)
dataset$Inches = normalize(dataset$Inches)
dataset$Weight = normalize(dataset$Weight)
```

```{r}
dataset$price=cut (dataset$Price_euros, breaks=c(400, 650, 880, 1100), labels=c("cheap","affordable","expensive"))

```



```{r}
# categorizing CPU types
pattern_categories <- data.frame(
              Cpu = c("Intel Core i3 .*","Intel Core i5 .*", "Intel Core i7 .*", "Intel Core i9 .*",
                          "Intel Core M.*", "(?i)Intel Atom x.*",
                          "Intel Celeron .*","Intel Pentium .*",
                          "AMD A.*", "AMD E.*", "AMD Ryzen .*"),
              
                Category = c("Intel Core i3", "Intel Core i5", "Intel Core i7","Intel Core i9",
                             "Intel Core M", "Intel Atom x",
                             "Intel Celeron", "Intel Pentium", 
                             "AMD A-Series", "AMD E-Series", "AMD Ryzen-Series")
  )

# Intel Atom X5-Z8350 1.44GHz was not categoried bc of X instead of x so I should correct it

# assigning categories based on patterns
assign_category <- function(Cpu) {
  for (i in 1:nrow(pattern_categories)) {
    if (grepl(pattern_categories$Cpu[i], Cpu)) {
      return(pattern_categories$Category[i])
    }
  }
  return("Other")  # if no patterns match, it assigns it to "Other"
}


#new column with categories
Cpu_Categories <- sapply(dataset$Cpu, assign_category)

#data frame with CPU names and categories
cpu_data <- data.frame(CPU_Name = dataset$Cpu, Category = Cpu_Categories)

# adding the category coloum to the dataset
dataset <- data.frame(ID = dataset$ID, Company = dataset$Company, Product = dataset$Product,
                  TypeName = dataset$TypeName, Inches = dataset$Inches, 
                  ScreenResolution = dataset$ScreenResolution, Cpu = dataset$Cpu,
                  Category = cpu_data$Category,Ram = dataset$Ram,
                  Memory = dataset$Memory, Gpu = dataset$Gpu, OpSys = dataset$OpSys, 
                  Weight = dataset$Weight, Price_euros = dataset$Price_euros
                  )

# Extract GHz from CPU names
dataset$categories <- as.numeric(gsub(".*?(\\d+\\.\\d+)GHz.*", "\\1", dataset$Cpu))

dataset$CategoryCPU <- dataset$Category

dataset$CategoryCPU <- ifelse(
  (dataset$Category == "Intel Core i7" | dataset$Category == "Intel Core i5") & dataset$categories <= 2,
  paste(dataset$Category, "<2", sep = " "), dataset$CategoryCPU
)

dataset$CategoryCPU <- ifelse(
  (dataset$Category == "Intel Core i7" | dataset$Category == "Intel Core i5") & dataset$categories > 2,
  paste(dataset$Category, ">2", sep = " "), dataset$CategoryCPU
)


# Plot dataset
ggplot(dataset, aes(x = CategoryCPU, y = Price_euros)) +
  geom_jitter(width = 0.2, height = 0) +
  labs(title = "Jitter Plot of Laptop Prices by CPU Type", x = "CPU Type", y = "Price (in Euros)") +
  theme_minimal() +
  theme(axis.text.x = element_text(angle = 45, hjust = 1))


```



```{r}

# Categorizing GPU types
gpu_pattern_categories <- data.frame(
  Gpu = c("Intel Iris.*", "Intel HD Graphics.*", "AMD Radeon.*", "Nvidia GeForce.*", "Intel UHD Graphics.*","AMD FirePro .*", "Nvidia Quadro .*"),
  Category = c("Intel Iris Graphics", "Intel HD Graphics", "AMD Radeon Graphics", "Nvidia GeForce Graphics", "Intel UHD Graphics", "AMD FirePro", "Nvidia Quadro")
)

# Function to assign GPU categories based on patterns
assign_gpu_category <- function(gpu_name) {
  for (i in 1:nrow(gpu_pattern_categories)) {
    if (grepl(gpu_pattern_categories$Gpu[i], gpu_name)) {
      return(gpu_pattern_categories$Category[i])
    }
  }
  return("Other")  # Assign to "Other" category if no patterns match
}

# Create a new column "Gpu_Category" based on GPU names
dataset$CategoryGPU <- sapply(dataset$Gpu, assign_gpu_category)

#plot
ggplot(dataset, aes(x = CategoryGPU, y = Price_euros)) +
  geom_jitter(width = 0.2, height = 0) +
  labs(title = "Jitter Plot of Laptop Prices by GPU Category", x = "GPU Category", y = "Price (in Euros)") +
  theme_minimal() +
  theme(axis.text.x = element_text(angle = 45, hjust = 1))

dataset <- dataset[, c("ID", "Company", "Product", "TypeName", "Inches", "ScreenResolution", "Cpu","CategoryCPU",
                       "Ram", "Memory", "Gpu", "CategoryGPU", "OpSys", "Weight", "Price_euros")]

```


```{r}

#---------histogram-----------

companyHist <- table(dataset$Company)
companyHist <- companyHist[order(-companyHist)]
barplot(companyHist, main = "Frequency of Company", 
        ylab = "Frequency",
        las = 2,cex.names = 0.8)

#---
ramHist <- table(dataset$Ram)
ramHist <- ramHist[order(-ramHist)]
barplot(ramHist, main = "Frequency of RAM", 
        ylab = "Frequency",
        las = 2,cex.names = 0.8)

#---
opSysHist <- table(dataset$OpSys)
opSysHist <- opSysHist[order(-opSysHist)]
barplot(opSysHist, main = "Frequency of Operating Systems", 
        ylab = "Frequency",
        las = 2,cex.names = 0.8)

#---
productHist <- table(dataset$Product)
productHist <- productHist[order(-productHist)]
barplot(productHist, main = "Frequency of Product", 
        ylab = "Frequency",
        las = 2,cex.names = 0.6)

#---
typeHist <- table(dataset$TypeName)
typeHist <- typeHist[order(-typeHist)]
barplot(typeHist, main = "Frequency of Type", 
        ylab = "Frequency",
        las = 2,cex.names = 0.6)

#---
cpuHist <- table(dataset$CategoryCPU)
cpuHist <- cpuHist[order(-cpuHist)]
barplot(cpuHist, main = "Frequency of CPU", 
        ylab = "Frequency",
        las = 2,cex.names = 0.6)

#---
gpuHist <- table(dataset$CategoryGPU)
gpuHist <- gpuHist[order(-gpuHist)]
barplot(gpuHist, main = "Frequency of GPU", 
        ylab = "Frequency",
        las = 2,cex.names = 0.6)


```




```{r}
#------------ tree-map (instead of pie chart)------------

# Calculate the frequency of each company
company_counts <- table(dataset$Company)
company_freq <- data.frame(Company = names(company_counts), Frequency = as.numeric(company_counts))
company_freq <- company_freq[order(company_freq$Frequency, decreasing = TRUE), ]
# Create a treemap
treemap <- plot_ly(
  company_freq,
  labels = ~Company,
  parents = "",
  values = ~Frequency,
  type = "treemap",
  branchvalues = "total"
)
treemap <- treemap %>%
  layout(title = "Company Frequency Treemap")
# print Company Treemap
treemap



# Calculate the frequency of each TypeName
type_counts <- table(dataset$TypeName)
type_freq <- data.frame(TypeName = names(type_counts), Frequency = as.numeric(type_counts))
type_freq <- type_freq[order(type_freq$Frequency, decreasing = TRUE), ]
# Create a treemap
treemap <- plot_ly(
  type_freq,
  labels = ~TypeName,
  parents = "",
  values = ~Frequency,
  type = "treemap",
  branchvalues = "total"
)
treemap <- treemap %>%
  layout(title = "TypeName Frequency Treemap")
# print TypeName Treemap
treemap



# Calculate the frequency of each RAM category
ram_counts <- table(dataset$Ram)
ram_freq <- data.frame(Ram = names(ram_counts), Frequency = as.numeric(ram_counts))
ram_freq <- ram_freq[order(ram_freq$Frequency, decreasing = TRUE), ]
# Create a treemap
treemap <- plot_ly(
  ram_freq,
  labels = ~Ram,
  parents = "",
  values = ~Frequency,
  type = "treemap",
  branchvalues = "total"
)
treemap <- treemap %>%
  layout(title = "RAM Frequency Treemap")
# print Ram Treemap
treemap



# Calculate the frequency of each CPU category
cpu_counts <- table(dataset$CategoryCPU)
cpu_freq <- data.frame(CategoryCPU = names(cpu_counts), Frequency = as.numeric(cpu_counts))
cpu_freq <- cpu_freq[order(cpu_freq$Frequency, decreasing = TRUE), ]
# Create a treemap
treemap_cpu <- plot_ly(
  cpu_freq,
  labels = ~CategoryCPU,
  parents = "",
  values = ~Frequency,
  type = "treemap",
  branchvalues = "total"
)
treemap_cpu <- treemap_cpu %>%
  layout(title = "CPU Category Frequency Treemap")
# Print CPU Treemap
treemap_cpu


# Calculate the frequency of each GPU category
gpu_counts <- table(dataset$CategoryGPU)
gpu_freq <- data.frame(CategoryGPU = names(gpu_counts), Frequency = as.numeric(gpu_counts))
gpu_freq <- gpu_freq[order(gpu_freq$Frequency, decreasing = TRUE), ]

# Create a treemap
treemap_gpu <- plot_ly(
  gpu_freq,
  labels = ~CategoryGPU,
  parents = "",
  values = ~Frequency,
  type = "treemap",
  branchvalues = "total"
)
treemap_gpu <- treemap_gpu %>%
  layout(title = "GPU Category Frequency Treemap")
  
# Print GPU Category Treemap
treemap_gpu


# Calculate the frequency of each OpSys
opsys_counts <- table(dataset$OpSys)
opsys_freq <- data.frame(OpSys = names(opsys_counts), Frequency = as.numeric(opsys_counts))
opsys_freq <- opsys_freq[order(opsys_freq$Frequency, decreasing = TRUE), ]
# Create a treemap for OpSys
treemap_opsys <- plot_ly(
  opsys_freq,
  labels = ~OpSys,
  parents = "",
  values = ~Frequency,
  type = "treemap",
  branchvalues = "total"
)
treemap_opsys <- treemap_opsys %>%
  layout(title = "OpSys Frequency Treemap")
# print OpSys Treemap
treemap




```



```{r}

# ------------ BAR chart ---------------


dataset %>%
  group_by(Company) %>%
  summarize(Average_Price = mean(Price_euros, na.rm = TRUE)) %>%
  ggplot(aes(x = reorder(Company, Average_Price), y = Average_Price)) +
  geom_bar(stat = "identity", fill = "skyblue") +
  labs(title = "Average Laptop Prices by Company", x = "Company", y = "Average Price for each company") +
  theme_minimal() +
  theme(axis.text.x = element_text(angle = 45, hjust = 1))
# ram
dataset %>%
  group_by(Ram) %>%
  summarize(Average_Price = mean(Price_euros, na.rm = TRUE)) %>%
  ggplot(aes(x = reorder(Ram, Average_Price), y = Average_Price)) +
  geom_bar(stat = "identity", fill = "skyblue") +
  labs(title = "Average Laptop Prices by RAM", x = "RAM", y = "Average Price for each RAM type") +
  theme_minimal() +
  theme(axis.text.x = element_text(angle = 45, hjust = 1))

# typeName
dataset %>%
  group_by(TypeName) %>%
  summarize(Average_Price = mean(Price_euros, na.rm = TRUE)) %>%
  ggplot(aes(x = reorder(TypeName, Average_Price), y = Average_Price)) +
  geom_bar(stat = "identity", fill = "skyblue") +
  labs(title = "Average Laptop Prices by TypeName", x = "TypeName", y = "Average Price for each Type") +
  theme_minimal() +
  theme(axis.text.x = element_text(angle = 45, hjust = 1))

# opSys
dataset %>%
  group_by(OpSys) %>%
  summarize(Average_Price = mean(Price_euros, na.rm = TRUE)) %>%
  ggplot(aes(x = reorder(OpSys, Average_Price), y = Average_Price)) +
  geom_bar(stat = "identity", fill = "skyblue") +
  labs(title = "Average Laptop Prices by operating system", x = "Operating System", y = "Average Price for each Type") +
  theme_minimal() +
  theme(axis.text.x = element_text(angle = 45, hjust = 1))

#CategoryCPU
dataset %>%
  group_by(CategoryCPU) %>%
  summarize(Average_Price = mean(Price_euros, na.rm = TRUE)) %>%
  ggplot(aes(x = reorder(CategoryCPU, Average_Price), y = Average_Price)) +
  geom_bar(stat = "identity", fill = "skyblue") +
  labs(title = "Average Laptop Prices by CPU Category", x = "CPU Category", y = "Average Price for each Type") +
  theme_minimal() +
  theme(axis.text.x = element_text(angle = 45, hjust = 1))

#CategoryGPU
dataset %>%
  group_by(CategoryGPU) %>%
  summarize(Average_Price = mean(Price_euros, na.rm = TRUE)) %>%
  ggplot(aes(x = reorder(CategoryGPU, Average_Price), y = Average_Price)) +
  geom_bar(stat = "identity", fill = "skyblue") +
  labs(title = "Average Laptop Prices by GPU Category", x = "GPU Category", y = "Average Price for each Type") +
  theme_minimal() +
  theme(axis.text.x = element_text(angle = 45, hjust = 1))



```


